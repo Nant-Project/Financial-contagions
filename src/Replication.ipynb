{
 "cells": [
  {
   "cell_type": "code",
   "execution_count": 15,
   "metadata": {},
   "outputs": [],
   "source": [
    "import numpy as np\n",
    "import matplotlib.pyplot as plt"
   ]
  },
  {
   "attachments": {},
   "cell_type": "markdown",
   "metadata": {},
   "source": [
    "# Implementation of the equations 1,2,3"
   ]
  },
  {
   "attachments": {},
   "cell_type": "markdown",
   "metadata": {},
   "source": [
    "\n",
    "\n",
    "$$P_i (t)=P_i(t-1) exp(R_i (t))$$\n",
    "$$R_i(t)=\\frac{1}{N_i^*} \\sum_{j \\neq i}^N \\alpha_{i j} \\Theta\\left(R_j^{c u m}(t-1)>R_C\\right) \\times R_j^{c u m}(t-1) \\beta_{i j}+\\eta_i(t), \\quad (1)$$\n",
    "$$R_j^{c u m}(t)=\\left(1-\\Theta\\left(R_j^{c u m}(t-1)>R_C\\right)\\right)\\left[R_j^{c u m}(t-1)+R_j(t)\\right] \\qquad (2)$$\n",
    "$$N_i^*=\\sum_{j \\neq i}^N \\Theta\\left(R_j^{c u m}(t-1)>R_C\\right), \\alpha_{i j}=1-\\exp \\left\\{-K_j /\\left(K_i \\gamma\\right)\\right\\} \\qquad (3)$$\n",
    "$$\\beta_{i j}=\\exp \\left\\{-\\left(z_i-z_j\\right) / \\tau\\right\\}$$\n"
   ]
  },
  {
   "attachments": {},
   "cell_type": "markdown",
   "metadata": {},
   "source": [
    "Vectorial:\n",
    "if we have the information of $R^{cum}$ at hand we can use the power of the vectorial reduction to speed up computation,\n",
    "we can write equation number (1) as follows:\n",
    "$$R N^{tr}=(\\alpha.*\\beta-diag(\\alpha.*\\beta)).(\\Theta(R^{cum}(t-1)\\geq RC\\mathbb{I}).*R^{cum}(t-1))+\\eta$$"
   ]
  },
  {
   "attachments": {},
   "cell_type": "markdown",
   "metadata": {},
   "source": [
    "- tr: transpose \\\n",
    "- .* :means term by term product \\\n",
    "- $\\alpha$ and $\\beta$ are represented by matrixes, \n",
    "- and $R^{cum}(t)$ is a vector$\\forall t  $, ie R^{cum} is a matrixes each line represent a specific date, and - each colomns  \\, \n",
    "- and $\\Theta$ represents both the scalar and the vectorial Hieveside function over $\\mathbb{R^n}\\\n",
    "- \\rightarrow\\mathbb{R^n}$, where n can also be equal to 1"
   ]
  },
  {
   "attachments": {},
   "cell_type": "markdown",
   "metadata": {},
   "source": [
    "This leads to  the Vectorial equation:\n",
    "$$R=(\\alpha.*\\beta-diag(\\alpha.*\\beta)).(\\Theta(R^{cum}(t-1)\\geq RC\\mathbb{I}).*R^{cum}(t-1))./N+\\eta$$\n",
    "where ./ is the invert term by term "
   ]
  },
  {
   "attachments": {},
   "cell_type": "markdown",
   "metadata": {},
   "source": [
    "$$R=((\\alpha.*\\beta).*(1-I_n)).(\\Theta(R^{cum}(t-1)\\geq RC\\mathbb{I}).*R^{cum}(t-1))./N+\\eta$$"
   ]
  },
  {
   "attachments": {},
   "cell_type": "markdown",
   "metadata": {},
   "source": [
    "This is an example of vectorial implenntation of equation number (1)"
   ]
  },
  {
   "cell_type": "code",
   "execution_count": 45,
   "metadata": {},
   "outputs": [],
   "source": [
    "Hievisied=lambda r,r_critic:1*(r>=r_critic)\n",
    "ReturnFunction=lambda t,alpha,beta,Rcum,critic,N:(alpha*beta*(1-np.eye(len(alpha))))@((Hievisied(Rcum[t-1],critic)*Rcum[t-1])/N)"
   ]
  },
  {
   "cell_type": "code",
   "execution_count": 95,
   "metadata": {},
   "outputs": [],
   "source": [
    "#Tests we suppose that we have oly tree indices to see if the computation works\n",
    "alpha=np.array([[2,3,4],[4,5,6],[6,8,9]])\n",
    "betaMatrix=np.array([[1,7,4],[2,2,1],[6,1,2]])\n",
    "rcritic=0.5\n",
    "Rcum=np.random.rand(300,3)\n",
    "#each line represent a time \n",
    "N=np.array([5,4,3])\n",
    "Return=np.array([ReturnFunction(t,alpha,betaMatrix,Rcum,rcritic,N) for t in range(len(Rcum))])"
   ]
  },
  {
   "cell_type": "code",
   "execution_count": 96,
   "metadata": {},
   "outputs": [
    {
     "name": "stdout",
     "output_type": "stream",
     "text": [
      "alpha: (3, 3)\n",
      "beta: (3, 3)\n",
      "Rcum: (300, 3)\n",
      "N: (3,)\n",
      "Return: (300, 3)\n"
     ]
    }
   ],
   "source": [
    "print(\"alpha: \"+str(alpha.shape))\n",
    "print(\"beta: \"+str(betaMatrix.shape))\n",
    "print(\"Rcum: \"+str(Rcum.shape))\n",
    "print(\"N: \"+str(N.shape))\n",
    "print(\"Return: \"+str(Return.shape))\n"
   ]
  },
  {
   "cell_type": "code",
   "execution_count": 67,
   "metadata": {},
   "outputs": [
    {
     "data": {
      "text/plain": [
       "array([[0.        , 0.        , 0.        ],\n",
       "       [4.17317531, 0.        , 1.58978107],\n",
       "       [0.        , 1.52835621, 6.87760297],\n",
       "       [0.        , 0.        , 0.        ],\n",
       "       [0.        , 1.14845992, 5.16806962],\n",
       "       [4.75941467, 0.        , 1.81311035],\n",
       "       [0.        , 1.11217735, 5.00479809],\n",
       "       [7.88491076, 1.56200682, 1.41697495],\n",
       "       [5.24497048, 1.96686393, 0.        ],\n",
       "       [6.16334123, 2.60199043, 6.97333168],\n",
       "       [4.3921212 , 3.12261989, 6.64008496],\n",
       "       [4.83975974, 1.8149099 , 0.        ],\n",
       "       [2.94939841, 2.36059846, 5.64558323],\n",
       "       [7.50483287, 2.87579855, 6.51665986],\n",
       "       [7.80898352, 1.32171905, 1.63215215],\n",
       "       [0.        , 0.        , 0.        ],\n",
       "       [0.        , 1.4231737 , 6.40428167],\n",
       "       [5.04654184, 0.        , 1.92249213],\n",
       "       [4.60759174, 0.94744272, 6.01876528],\n",
       "       [5.13846785, 1.92692544, 0.        ]])"
      ]
     },
     "execution_count": 67,
     "metadata": {},
     "output_type": "execute_result"
    }
   ],
   "source": [
    "Return[:20]\n",
    "#the first 20 returns"
   ]
  },
  {
   "cell_type": "code",
   "execution_count": 64,
   "metadata": {},
   "outputs": [
    {
     "data": {
      "text/plain": [
       "Text(0.5, 1.0, 'Hievised Fynction for critical value=3')"
      ]
     },
     "execution_count": 64,
     "metadata": {},
     "output_type": "execute_result"
    },
    {
     "data": {
      "image/png": "[encoded data removed]",
      "text/plain": [
       "<Figure size 432x288 with 1 Axes>"
      ]
     },
     "metadata": {
      "needs_background": "light"
     },
     "output_type": "display_data"
    }
   ],
   "source": [
    "critic=3\n",
    "a=np.linspace(0,10)\n",
    "plt.plot(a,Hievisied(a,critic))\n",
    "plt.title(\"Hievised Fynction for critical value={}\".format(critic))"
   ]
  },
  {
   "attachments": {},
   "cell_type": "markdown",
   "metadata": {},
   "source": [
    "Unfortunately we cant use vectorial for of computation due to the metual dependence between the equations, that's why we need to use iterative computation, "
   ]
  },
  {
   "cell_type": "code",
   "execution_count": 68,
   "metadata": {},
   "outputs": [],
   "source": [
    "timezone={\n",
    "    #This is just an example, \n",
    "    #TODO, fill this dictionarry with the real dat\n",
    "    #index:timezone\n",
    "    0:2,\n",
    "    1:5,\n",
    "    2:-2\n",
    "}\n"
   ]
  },
  {
   "attachments": {},
   "cell_type": "markdown",
   "metadata": {},
   "source": [
    "$$\\beta_{i j}=\\exp \\left\\{-\\left(z_i-z_j\\right) / \\tau\\right\\}$$"
   ]
  },
  {
   "cell_type": "code",
   "execution_count": 93,
   "metadata": {},
   "outputs": [],
   "source": [
    "tho=3\n",
    "betaFunction=lambda i,j:np.exp(-abs(timezone[i]-timezone[j])/tho)"
   ]
  },
  {
   "cell_type": "code",
   "execution_count": 94,
   "metadata": {},
   "outputs": [
    {
     "data": {
      "text/plain": [
       "array([[1.        , 0.36787944, 0.26359714],\n",
       "       [0.36787944, 1.        , 0.09697197],\n",
       "       [0.26359714, 0.09697197, 1.        ]])"
      ]
     },
     "execution_count": 94,
     "metadata": {},
     "output_type": "execute_result"
    }
   ],
   "source": [
    "BetaMatrix=np.array([[betaFunction(i,j) for j in timezone] for i in timezone])\n",
    "BetaMatrix"
   ]
  }
 ],
 "metadata": {
  "kernelspec": {
   "display_name": "base",
   "language": "python",
   "name": "python3"
  },
  "language_info": {
   "codemirror_mode": {
    "name": "ipython",
    "version": 3
   },
   "file_extension": ".py",
   "mimetype": "text/x-python",
   "name": "python",
   "nbconvert_exporter": "python",
   "pygments_lexer": "ipython3",
   "version": "3.8.8"
  },
  "orig_nbformat": 4,
  "vscode": {
   "interpreter": {
    "hash": "ae0f79b32b2845dac7e94ce8e1e5e879cbbee5c3210b1fdfbe8967149bf7e5fc"
   }
  }
 },
 "nbformat": 4,
 "nbformat_minor": 2
}
