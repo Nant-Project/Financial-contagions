{
 "cells": [
  {
   "cell_type": "code",
   "execution_count": 1,
   "metadata": {},
   "outputs": [],
   "source": [
    "import numpy as np\n",
    "from Library import *\n",
    "import json"
   ]
  },
  {
   "cell_type": "code",
   "execution_count": 2,
   "metadata": {},
   "outputs": [],
   "source": [
    "dfDictist,indexes_names=load_indexes(\"../Data/indexes\")"
   ]
  },
  {
   "cell_type": "code",
   "execution_count": 3,
   "metadata": {},
   "outputs": [],
   "source": [
    "def compute_beta(timezonePath,indexes_names,tho,field=\"timezone\"):\n",
    "    n=len(indexes_names)\n",
    "    beta=np.zeros((n,n))\n",
    "    with open(timezonePath) as file:\n",
    "        Z=json.load(file)[field]\n",
    "    for i,i_index in enumerate(indexes_names):\n",
    "        for j,j_index in enumerate(indexes_names):\n",
    "            beta[i,j]=betaFunction(i_index,j_index,Z,tho)\n",
    "    return beta\n",
    "    "
   ]
  },
  {
   "cell_type": "code",
   "execution_count": 4,
   "metadata": {},
   "outputs": [],
   "source": [
    "timezonePath=\"../Data/cleanData/TestData.json\"\n",
    "beta=compute_beta(timezonePath,indexes_names,3)"
   ]
  },
  {
   "cell_type": "code",
   "execution_count": 8,
   "metadata": {},
   "outputs": [],
   "source": [
    "def compute_alpha_matrix(CapitalisationPath,indexes_names,gamma,filed=\"UniformCapitalisation\"):\n",
    "    n=len(indexes_names)\n",
    "    alpha=np.zeros((n,n))\n",
    "    with open(CapitalisationPath) as file:\n",
    "        K=json.load(file)[filed]\n",
    "    for i,i_index in enumerate(indexes_names):\n",
    "        for j,j_index in enumerate(indexes_names):\n",
    "            alpha[i,j]=alphaFunction(i_index,j_index,K,gamma)\n",
    "    print(K)\n",
    "    return alpha"
   ]
  },
  {
   "cell_type": "code",
   "execution_count": 9,
   "metadata": {},
   "outputs": [
    {
     "name": "stdout",
     "output_type": "stream",
     "text": [
      "{'AEX': 1, 'FCHI': 1, 'JKS': 1, 'SSEC': 1, 'ATX': 1, 'GDAX': 1, 'KS11': 1, 'SSMI': 1, 'BVSP': 1, 'GSPTSE': 1, 'MXX': 1, 'TA125_TA100': 1, 'HSI': 1, 'N225': 1, 'TWII': 1, 'JKSE': 1}\n"
     ]
    }
   ],
   "source": [
    "CapitalisationPath=\"../Data/cleanData/TestData.json\"\n",
    "gamma=0.5\n",
    "alpha=compute_alpha_matrix(CapitalisationPath,indexes_names,gamma,filed=\"UniformCapitalisation\")"
   ]
  },
  {
   "cell_type": "code",
   "execution_count": null,
   "metadata": {},
   "outputs": [],
   "source": []
  }
 ],
 "metadata": {
  "kernelspec": {
   "display_name": "Python 3",
   "language": "python",
   "name": "python3"
  },
  "language_info": {
   "codemirror_mode": {
    "name": "ipython",
    "version": 3
   },
   "file_extension": ".py",
   "mimetype": "text/x-python",
   "name": "python",
   "nbconvert_exporter": "python",
   "pygments_lexer": "ipython3",
   "version": "3.8.8"
  },
  "vscode": {
   "interpreter": {
    "hash": "ae0f79b32b2845dac7e94ce8e1e5e879cbbee5c3210b1fdfbe8967149bf7e5fc"
   }
  }
 },
 "nbformat": 4,
 "nbformat_minor": 2
}
