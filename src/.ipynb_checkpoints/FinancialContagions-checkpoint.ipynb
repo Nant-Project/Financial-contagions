{
 "cells": [
  {
   "cell_type": "code",
   "execution_count": 1,
   "metadata": {},
   "outputs": [],
   "source": [
    "from Library import *"
   ]
  },
  {
   "cell_type": "markdown",
   "metadata": {},
   "source": [
    "### This function load indexes data as dictionary i whitch, keys are indexes names and values are dataframes that contain informations Date,open,close,Hight,Low,Close,Adj Close,Volume"
   ]
  },
  {
   "cell_type": "code",
   "execution_count": 2,
   "metadata": {},
   "outputs": [
    {
     "data": {
      "text/html": [
       "<div>\n",
       "<style scoped>\n",
       "    .dataframe tbody tr th:only-of-type {\n",
       "        vertical-align: middle;\n",
       "    }\n",
       "\n",
       "    .dataframe tbody tr th {\n",
       "        vertical-align: top;\n",
       "    }\n",
       "\n",
       "    .dataframe thead th {\n",
       "        text-align: right;\n",
       "    }\n",
       "</style>\n",
       "<table border=\"1\" class=\"dataframe\">\n",
       "  <thead>\n",
       "    <tr style=\"text-align: right;\">\n",
       "      <th></th>\n",
       "      <th>Date</th>\n",
       "      <th>Open</th>\n",
       "      <th>High</th>\n",
       "      <th>Low</th>\n",
       "      <th>Close</th>\n",
       "      <th>Adj Close</th>\n",
       "      <th>Volume</th>\n",
       "    </tr>\n",
       "  </thead>\n",
       "  <tbody>\n",
       "    <tr>\n",
       "      <th>0</th>\n",
       "      <td>1997-07-02</td>\n",
       "      <td>1255.909058</td>\n",
       "      <td>1261.571045</td>\n",
       "      <td>1147.331055</td>\n",
       "      <td>1199.061035</td>\n",
       "      <td>1199.061035</td>\n",
       "      <td>0.0</td>\n",
       "    </tr>\n",
       "    <tr>\n",
       "      <th>1</th>\n",
       "      <td>1997-07-03</td>\n",
       "      <td>1194.676025</td>\n",
       "      <td>1194.676025</td>\n",
       "      <td>1149.939941</td>\n",
       "      <td>1150.623047</td>\n",
       "      <td>1150.623047</td>\n",
       "      <td>0.0</td>\n",
       "    </tr>\n",
       "    <tr>\n",
       "      <th>2</th>\n",
       "      <td>1997-07-04</td>\n",
       "      <td>1138.921021</td>\n",
       "      <td>1163.249023</td>\n",
       "      <td>1124.776001</td>\n",
       "      <td>1159.342041</td>\n",
       "      <td>1159.342041</td>\n",
       "      <td>0.0</td>\n",
       "    </tr>\n",
       "    <tr>\n",
       "      <th>3</th>\n",
       "      <td>1997-07-07</td>\n",
       "      <td>1161.707031</td>\n",
       "      <td>1163.447021</td>\n",
       "      <td>1085.572021</td>\n",
       "      <td>1096.818970</td>\n",
       "      <td>1096.818970</td>\n",
       "      <td>0.0</td>\n",
       "    </tr>\n",
       "    <tr>\n",
       "      <th>4</th>\n",
       "      <td>1997-07-08</td>\n",
       "      <td>1092.798950</td>\n",
       "      <td>1115.432983</td>\n",
       "      <td>1066.043945</td>\n",
       "      <td>1109.666016</td>\n",
       "      <td>1109.666016</td>\n",
       "      <td>0.0</td>\n",
       "    </tr>\n",
       "  </tbody>\n",
       "</table>\n",
       "</div>"
      ],
      "text/plain": [
       "         Date         Open         High          Low        Close  \\\n",
       "0  1997-07-02  1255.909058  1261.571045  1147.331055  1199.061035   \n",
       "1  1997-07-03  1194.676025  1194.676025  1149.939941  1150.623047   \n",
       "2  1997-07-04  1138.921021  1163.249023  1124.776001  1159.342041   \n",
       "3  1997-07-07  1161.707031  1163.447021  1085.572021  1096.818970   \n",
       "4  1997-07-08  1092.798950  1115.432983  1066.043945  1109.666016   \n",
       "\n",
       "     Adj Close  Volume  \n",
       "0  1199.061035     0.0  \n",
       "1  1150.623047     0.0  \n",
       "2  1159.342041     0.0  \n",
       "3  1096.818970     0.0  \n",
       "4  1109.666016     0.0  "
      ]
     },
     "execution_count": 2,
     "metadata": {},
     "output_type": "execute_result"
    }
   ],
   "source": [
    "dfDictist,indexes_names=load_indexes(\"../Data/indexes\")\n",
    "dfDictist[\"SSEC\"].head()"
   ]
  },
  {
   "cell_type": "markdown",
   "metadata": {},
   "source": [
    "# Compute beta\n",
    "we can compute beta matrix, by having a file that contain the timezone for each index, and a value of $\\tho$"
   ]
  },
  {
   "cell_type": "code",
   "execution_count": 3,
   "metadata": {},
   "outputs": [],
   "source": [
    "tho=3\n",
    "beta=compute_beta(\"../Data/timezone.json\",indexes_names,tho)"
   ]
  },
  {
   "cell_type": "code",
   "execution_count": 5,
   "metadata": {},
   "outputs": [
    {
     "data": {
      "text/plain": [
       "array([[1.        , 0.36787944, 0.02556153],\n",
       "       [0.36787944, 1.        , 0.00940356],\n",
       "       [0.02556153, 0.00940356, 1.        ]])"
      ]
     },
     "execution_count": 5,
     "metadata": {},
     "output_type": "execute_result"
    }
   ],
   "source": [
    "beta[:3,:3]"
   ]
  }
 ],
 "metadata": {
  "kernelspec": {
   "display_name": "Python 3",
   "language": "python",
   "name": "python3"
  },
  "language_info": {
   "codemirror_mode": {
    "name": "ipython",
    "version": 3
   },
   "file_extension": ".py",
   "mimetype": "text/x-python",
   "name": "python",
   "nbconvert_exporter": "python",
   "pygments_lexer": "ipython3",
   "version": "3.8.8"
  },
  "vscode": {
   "interpreter": {
    "hash": "ae0f79b32b2845dac7e94ce8e1e5e879cbbee5c3210b1fdfbe8967149bf7e5fc"
   }
  }
 },
 "nbformat": 4,
 "nbformat_minor": 2
}
